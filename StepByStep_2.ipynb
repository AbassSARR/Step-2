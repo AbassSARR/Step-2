{
 "cells": [
  {
   "cell_type": "markdown",
   "id": "1c77a09b",
   "metadata": {},
   "source": [
    "* # Online    \n",
    "    * # online-python.com\n",
    "    * # replit.com\n",
    "    * # python.org\n",
    "    * # google colab\n",
    "* # OffLine\n",
    "    * # Installation"
   ]
  },
  {
   "cell_type": "markdown",
   "id": "ad9d6a98",
   "metadata": {},
   "source": [
    "# let's do some math"
   ]
  },
  {
   "cell_type": "code",
   "execution_count": 1,
   "id": "f70d8859",
   "metadata": {},
   "outputs": [
    {
     "data": {
      "text/plain": [
       "365"
      ]
     },
     "execution_count": 1,
     "metadata": {},
     "output_type": "execute_result"
    }
   ],
   "source": [
    "365 / 12 # 30.416666666666668\n",
    "30 * 12 # 360\n",
    "6 * 31 + 5 * 30 + 29 - 1 + 1 # 365 ou 366"
   ]
  },
  {
   "cell_type": "code",
   "execution_count": 2,
   "id": "af511c1c",
   "metadata": {},
   "outputs": [
    {
     "data": {
      "text/plain": [
       "5"
      ]
     },
     "execution_count": 2,
     "metadata": {},
     "output_type": "execute_result"
    }
   ],
   "source": [
    "365 // 12 # 30 il sagit là du quotient de la division\n",
    "365 % 12  # 5 ici on parle du reste modulo \n",
    "\n",
    "#2 // 3 division arithmétique( ici c'est le quotient qui est retourné, % rend le reste)\n",
    "#                              sinon faire un forcage de float 2.0 // 3.0\n",
    "#resteModulo_ = 2 % 3\n",
    "#puissace_ = 5**2"
   ]
  },
  {
   "cell_type": "code",
   "execution_count": 3,
   "id": "64636f8d",
   "metadata": {},
   "outputs": [],
   "source": [
    "# 1 mn = 60 s\n",
    "# 1h = 60 mn = 3600 s\n",
    "# 1j = 86400  s\n",
    "\n",
    "# 3998765 s : trouver le nombre d'heure, de minute et de second dans le nombre donné\n",
    "\n",
    "# 4562 dire si c'est un carré parfait ou non\n",
    "\n",
    "# une voiture se déplace à la vitesse de 50 km/h. quelle est le temps mis pour parcourir 25 km\n",
    "\n",
    "# Calculer la puissance cubique des nombre suivant: 45, 67\n",
    "\n",
    "# Calculer le carré des nombre suivant : 13, 25\n",
    "\n",
    "# Calculer la racine carré de 25, 144, \n",
    "# Calculer la puissance 5 ième de 625,1225, 350, 235748949"
   ]
  },
  {
   "cell_type": "markdown",
   "id": "e20dcf89",
   "metadata": {},
   "source": [
    "# Variables\n",
    "   ## Règle de nommage\n",
    "    * Ne peut pas commencer par un chiffre\n",
    "    * Ne pas utilisé d'espace\n",
    "    * Caractere alpha-num et/ou under_score\n",
    "    * Attention aux mots reservés"
   ]
  },
  {
   "cell_type": "code",
   "execution_count": 4,
   "id": "3ba9b5fd",
   "metadata": {},
   "outputs": [
    {
     "data": {
      "text/plain": [
       "(4, 16, 16)"
      ]
     },
     "execution_count": 4,
     "metadata": {},
     "output_type": "execute_result"
    }
   ],
   "source": [
    "# Affectation Simple\n",
    "# Soit un carré ABCD de Coté 4 cm \n",
    "c = 4\n",
    "p = 4 * c\n",
    "a = c * c\n",
    "c, p, a"
   ]
  },
  {
   "cell_type": "markdown",
   "id": "ba04fca7",
   "metadata": {},
   "source": [
    "* Soit $ x_{t} = -t^{3} + 3t + 1 $ la position d'un mobile à l'instant t\n",
    "    * Calculons sa position $x_{0}$ à t = 0s et $x_{4}$ à t = 4s"
   ]
  },
  {
   "cell_type": "code",
   "execution_count": 5,
   "id": "873467b3",
   "metadata": {},
   "outputs": [
    {
     "data": {
      "text/plain": [
       "1"
      ]
     },
     "execution_count": 5,
     "metadata": {},
     "output_type": "execute_result"
    }
   ],
   "source": [
    "t = 0\n",
    "x = -1*0**3 + 3*0 + 1\n",
    "x"
   ]
  },
  {
   "cell_type": "code",
   "execution_count": 6,
   "id": "0ff5934c",
   "metadata": {},
   "outputs": [
    {
     "data": {
      "text/plain": [
       "-51"
      ]
     },
     "execution_count": 6,
     "metadata": {},
     "output_type": "execute_result"
    }
   ],
   "source": [
    "t = 4\n",
    "x = -1*4**3 + 3*4 + 1\n",
    "x"
   ]
  },
  {
   "cell_type": "markdown",
   "id": "c6a65da5",
   "metadata": {},
   "source": [
    "* soient $v_{1} = 70$ $km/h $ et $v_{2} = 130$ $km/h$ aux temps $t_{1} = 5$ $h $ et $t_{2}$ $30 mn$ plutard\n",
    "    * L'acceleration moyenne"
   ]
  },
  {
   "cell_type": "code",
   "execution_count": 7,
   "id": "7cdfb0d1",
   "metadata": {},
   "outputs": [
    {
     "data": {
      "text/plain": [
       "120.0"
      ]
     },
     "execution_count": 7,
     "metadata": {},
     "output_type": "execute_result"
    }
   ],
   "source": [
    "# Affectation Paralelle\n",
    "v1, v2 = 70, 130\n",
    "t1, t2 = 5, 5.5\n",
    "\n",
    "a_moy = (v2 - v1)/ (t2 - t1)\n",
    "a_moy"
   ]
  },
  {
   "cell_type": "code",
   "execution_count": 8,
   "id": "bab8b793",
   "metadata": {},
   "outputs": [],
   "source": [
    "# Affectation Multiple\n",
    "Fa = Fb = 100"
   ]
  },
  {
   "cell_type": "code",
   "execution_count": 9,
   "id": "ce8ce572",
   "metadata": {},
   "outputs": [],
   "source": [
    "prenom = 'Abass'\n",
    "titre  = 'Game of Throne'\n",
    "booleen = True"
   ]
  },
  {
   "cell_type": "markdown",
   "id": "39e03673",
   "metadata": {},
   "source": [
    "# Fonction"
   ]
  },
  {
   "cell_type": "code",
   "execution_count": 10,
   "id": "5ca931d4",
   "metadata": {},
   "outputs": [
    {
     "name": "stdout",
     "output_type": "stream",
     "text": [
      "Je suis la première fonction que tout les programmeur debute\n"
     ]
    }
   ],
   "source": [
    "print('Je suis la première fonction que tout les programmeur debute')"
   ]
  },
  {
   "cell_type": "code",
   "execution_count": 11,
   "id": "c2b723e7",
   "metadata": {},
   "outputs": [],
   "source": [
    "def myFunc():\n",
    "    pass"
   ]
  },
  {
   "cell_type": "code",
   "execution_count": 12,
   "id": "bbc1053b",
   "metadata": {},
   "outputs": [],
   "source": [
    "def a_moy():\n",
    "    v1, v2 = 70, 130\n",
    "    t1, t2 = 5, 5.5\n",
    "    acc = (v2 - v1)/ (t2 - t1)"
   ]
  },
  {
   "cell_type": "code",
   "execution_count": 13,
   "id": "d1606222",
   "metadata": {},
   "outputs": [
    {
     "data": {
      "text/plain": [
       "<function __main__.a_moy()>"
      ]
     },
     "execution_count": 13,
     "metadata": {},
     "output_type": "execute_result"
    }
   ],
   "source": [
    "a_moy"
   ]
  },
  {
   "cell_type": "code",
   "execution_count": 14,
   "id": "0228b08d",
   "metadata": {},
   "outputs": [],
   "source": [
    "def travail(f, l):\n",
    "    W = f*l # On suppose que la force et le deplacement sont dans le meme sens"
   ]
  },
  {
   "cell_type": "code",
   "execution_count": 15,
   "id": "e009f854",
   "metadata": {},
   "outputs": [],
   "source": [
    "travail(360, 65)"
   ]
  },
  {
   "cell_type": "code",
   "execution_count": 16,
   "id": "3a325eee",
   "metadata": {},
   "outputs": [],
   "source": [
    "def EnergieCinetique(m, v, r, w):\n",
    "    Ec = .5 * m * v**2 + .5 * m * r**2 * w**2\n",
    "    return Ec"
   ]
  },
  {
   "cell_type": "code",
   "execution_count": 17,
   "id": "f41ffb00",
   "metadata": {},
   "outputs": [
    {
     "data": {
      "text/plain": [
       "3100.5"
      ]
     },
     "execution_count": 17,
     "metadata": {},
     "output_type": "execute_result"
    }
   ],
   "source": [
    "EnergieCinetique(36, 4, .5, 25)"
   ]
  },
  {
   "cell_type": "markdown",
   "id": "1c890740",
   "metadata": {},
   "source": [
    "$$ P_{2} - P_{1} = \\rho * v_2^{2}*\\frac{(S_{2}^2 - S_{1}^2)}{S_{1}^2}$$"
   ]
  },
  {
   "cell_type": "code",
   "execution_count": 18,
   "id": "a02538ff",
   "metadata": {},
   "outputs": [],
   "source": [
    "# Effet Venturi\n",
    "\n",
    "P = lambda p, r, V, s, S: p - .5*r*V**2*(S**2 - s**2)/ s**2"
   ]
  },
  {
   "cell_type": "code",
   "execution_count": 19,
   "id": "bb9ad3f4",
   "metadata": {},
   "outputs": [
    {
     "data": {
      "text/plain": [
       "229.99999949375"
      ]
     },
     "execution_count": 19,
     "metadata": {},
     "output_type": "execute_result"
    }
   ],
   "source": [
    "P(230, 900, 1e-5, 2e-5, 7e-5)"
   ]
  },
  {
   "cell_type": "code",
   "execution_count": null,
   "id": "2c312a58",
   "metadata": {},
   "outputs": [],
   "source": []
  },
  {
   "cell_type": "code",
   "execution_count": null,
   "id": "f8903d22",
   "metadata": {},
   "outputs": [],
   "source": []
  }
 ],
 "metadata": {
  "kernelspec": {
   "display_name": "Python 3 (ipykernel)",
   "language": "python",
   "name": "python3"
  },
  "language_info": {
   "codemirror_mode": {
    "name": "ipython",
    "version": 3
   },
   "file_extension": ".py",
   "mimetype": "text/x-python",
   "name": "python",
   "nbconvert_exporter": "python",
   "pygments_lexer": "ipython3",
   "version": "3.10.9"
  }
 },
 "nbformat": 4,
 "nbformat_minor": 5
}
